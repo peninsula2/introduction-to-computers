{
  "nbformat": 4,
  "nbformat_minor": 0,
  "metadata": {
    "colab": {
      "provenance": [],
      "authorship_tag": "ABX9TyPlfwcNfKNAv3VSqTT9Mhxc",
      "include_colab_link": true
    },
    "kernelspec": {
      "name": "python3",
      "display_name": "Python 3"
    },
    "language_info": {
      "name": "python"
    }
  },
  "cells": [
    {
      "cell_type": "markdown",
      "metadata": {
        "id": "view-in-github",
        "colab_type": "text"
      },
      "source": [
        "<a href=\"https://colab.research.google.com/github/peninsula2/introduction-to-computers/blob/main/Untitled7.ipynb\" target=\"_parent\"><img src=\"https://colab.research.google.com/assets/colab-badge.svg\" alt=\"Open In Colab\"/></a>"
      ]
    },
    {
      "cell_type": "code",
      "source": [
        "temperature = float(input(\"請輸入體溫：\"))\n",
        "\n",
        "if temperature >= 37.5:\n",
        "    print(\"體溫過高!\")\n",
        "elif 37.4 >= temperature >= 37:\n",
        "    print(\"體溫略高!\")\n",
        "elif 34 <= temperature <= 36.9:\n",
        "    print(\"體溫正常!\")\n",
        "else:\n",
        "    print(\"體溫異常，請重新量測!\")\n"
      ],
      "metadata": {
        "colab": {
          "base_uri": "https://localhost:8080/"
        },
        "id": "0iq26i-_yNVv",
        "outputId": "f40b7afd-74bc-45c0-b68e-e6a024549c1d"
      },
      "execution_count": 14,
      "outputs": [
        {
          "output_type": "stream",
          "name": "stdout",
          "text": [
            "請輸入體溫：35\n",
            "體溫正常!\n"
          ]
        }
      ]
    },
    {
      "cell_type": "code",
      "execution_count": 4,
      "metadata": {
        "colab": {
          "base_uri": "https://localhost:8080/"
        },
        "id": "Yz2aRi8zsC2v",
        "outputId": "c8fb0812-51dd-4e0f-abd2-8977fed4fcc5"
      },
      "outputs": [
        {
          "output_type": "stream",
          "name": "stdout",
          "text": [
            "請輸入成績60\n",
            "D\n"
          ]
        }
      ],
      "source": [
        "score=input(\"請輸入成績\")\n",
        "sc=int(score)\n",
        "if(sc>=90):\n",
        "  print(\"A\")\n",
        "elif(sc>=80):\n",
        "  print(\"B\")\n",
        "elif(sc>=70):\n",
        "  print(\"C\")\n",
        "elif sc >= 60:\n",
        "  print(\"D\")\n",
        "else:\n",
        "  print(\"E\")"
      ]
    },
    {
      "cell_type": "code",
      "source": [
        "month = int(input(\"請輸入月份：\"))\n",
        "\n",
        "if month in [3, 4, 5]:\n",
        "    print(f\"{month}月是春天!\")\n",
        "elif month in [6, 7, 8]:\n",
        "    print(f\"{month}月是夏天!\")\n",
        "elif month in [9, 10, 11]:\n",
        "    print(f\"{month}月是秋天!\")\n",
        "elif month in [12, 1, 2]:\n",
        "    print(f\"{month}月是冬天!\")\n",
        "else:\n",
        "    print(\"月份不在範圍內!\")\n"
      ],
      "metadata": {
        "colab": {
          "base_uri": "https://localhost:8080/"
        },
        "id": "YB5-dtjxybwx",
        "outputId": "4186770e-ca37-485f-f748-5b12cf243d05"
      },
      "execution_count": 15,
      "outputs": [
        {
          "output_type": "stream",
          "name": "stdout",
          "text": [
            "請輸入月份：3\n",
            "3月是春天!\n"
          ]
        }
      ]
    }
  ]
}